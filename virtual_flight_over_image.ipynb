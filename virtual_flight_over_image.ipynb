{
 "cells": [
  {
   "cell_type": "markdown",
   "metadata": {},
   "source": [
    "# Virtual flight over image"
   ]
  },
  {
   "cell_type": "code",
   "execution_count": null,
   "metadata": {},
   "outputs": [],
   "source": [
    "from moviepy.editor import ImageClip\n",
    "import moviepy.video.fx.all as vfx\n",
    "\n",
    "from skimage import transform\n",
    "import numpy as np"
   ]
  },
  {
   "cell_type": "code",
   "execution_count": null,
   "metadata": {},
   "outputs": [],
   "source": [
    " # function borrowed from https://zulko.github.io/moviepy/examples/star_worms.html\n",
    "def trapzWarp(pic,cx,cy):\n",
    "    \"\"\" Complicated function (will be latex packaged as a fx) \"\"\"\n",
    "    Y,X = pic.shape[:2]\n",
    "    src = np.array([[0,0],[X,0],[X,Y],[0,Y]])\n",
    "    dst = np.array([[cx*X,cy*Y],[(1-cx)*X,cy*Y],[X,Y],[0,Y]])\n",
    "    tform = transform.ProjectiveTransform()\n",
    "    tform.estimate(src,dst)\n",
    "    im = transform.warp(pic, tform.inverse, output_shape=(Y,X))\n",
    "    return (im*255).astype('uint8')"
   ]
  },
  {
   "cell_type": "code",
   "execution_count": null,
   "metadata": {},
   "outputs": [],
   "source": [
    "def fly(image_path, video_res=(1920, 1080), duration=20, perspective=0.15):\n",
    "    \"\"\"Creates a virtual flight video from an image file\n",
    "\n",
    "    Parameters\n",
    "    ----------\n",
    "    image_path : str\n",
    "        Path to the image file\n",
    "    video_res: (int, int)\n",
    "        Resolution (width, height) of the output video (default: (1920, 1080))\n",
    "            wider video -> faster scrolling\n",
    "            higher video -> slower scrolling\n",
    "    duration : int\n",
    "        Duration of the video in seconds: (default: 5)\n",
    "            higher -> longer videos -> slower flight\n",
    "            lower -> shorter videos -> faster flight\n",
    "    perspective : float\n",
    "        Perspective parameter (default: 0.2)\n",
    "            0.0 -> No perspective transformation\n",
    "            smaller -> less perspective transformation -> slower flight\n",
    "            higher (max = 0.499) -> more perspective transformation -> faster flight\n",
    "        \n",
    "    Returns\n",
    "    -------\n",
    "    cropped\n",
    "        A moviepy video\n",
    "\n",
    "    \"\"\"\n",
    "\n",
    "    clip = ImageClip(image_path).set_duration(duration)\n",
    "    \n",
    "    out_width, out_height = video_res\n",
    "    \n",
    "    # Resize for correct width after cropping\n",
    "    width = out_width / (1 - 2 * perspective)\n",
    "    resized = clip.resize(width=width)\n",
    "    \n",
    "    # Scroll backwards\n",
    "    pixel_to_scroll = resized.h - out_height\n",
    "    speed = pixel_to_scroll / duration # pixel per second\n",
    "    scrolling = vfx.scroll(resized, h=out_height, y_speed=speed)\n",
    "    backwards = vfx.time_mirror(scrolling)\n",
    "    \n",
    "    # Add perspective\n",
    "    fl_im = lambda pic : trapzWarp(pic, perspective, 0.0)\n",
    "    warped = backwards.fl_image(fl_im)\n",
    "    \n",
    "    # Clip sides width no data\n",
    "    clipping = width * perspective\n",
    "    cropped = vfx.crop(warped, x1=clipping, width=out_width)\n",
    "    \n",
    "    return cropped"
   ]
  },
  {
   "cell_type": "code",
   "execution_count": null,
   "metadata": {},
   "outputs": [],
   "source": [
    "image_path = 'image.tif'\n",
    "mp4_path = 'video.mp4'"
   ]
  },
  {
   "cell_type": "code",
   "execution_count": null,
   "metadata": {},
   "outputs": [],
   "source": [
    "fly(image_path, video_res=(1920, 1080), duration=20, perspective=0.15).write_videofile(str(mp4_path), fps=60)"
   ]
  },
  {
   "cell_type": "markdown",
   "metadata": {},
   "source": [
    "## TODO\n",
    "### Add logos"
   ]
  },
  {
   "cell_type": "markdown",
   "metadata": {},
   "source": [
    "https://github.com/Zulko/moviepy/issues/127"
   ]
  },
  {
   "cell_type": "code",
   "execution_count": null,
   "metadata": {},
   "outputs": [],
   "source": [
    "import moviepy.editor as mp\n",
    "\n",
    "video = mp.VideoFileClip(\"video.mp4\")\n",
    "\n",
    "logo = (mp.ImageClip(\"logo.png\")\n",
    "          .set_duration(video.duration)\n",
    "          .resize(height=50) # if you need to resize...\n",
    "          .margin(right=8, top=8, opacity=0) # (optional) logo-border padding\n",
    "          .set_pos((\"right\",\"top\")))\n",
    "\n",
    "final = mp.CompositeVideoClip([video, logo])\n",
    "final.write_videofile(\"test.mp4\")"
   ]
  }
 ],
 "metadata": {
  "kernelspec": {
   "display_name": "Python 3",
   "language": "python",
   "name": "python3"
  },
  "language_info": {
   "codemirror_mode": {
    "name": "ipython",
    "version": 3
   },
   "file_extension": ".py",
   "mimetype": "text/x-python",
   "name": "python",
   "nbconvert_exporter": "python",
   "pygments_lexer": "ipython3",
   "version": "3.7.6"
  }
 },
 "nbformat": 4,
 "nbformat_minor": 4
}
